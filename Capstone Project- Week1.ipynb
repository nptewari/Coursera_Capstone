{
 "cells": [
  {
   "cell_type": "markdown",
   "metadata": {},
   "source": [
    "# Problem Description"
   ]
  },
  {
   "cell_type": "markdown",
   "metadata": {},
   "source": [
    "#### Background Research\n",
    "According to bbc.com, London-focused estate agent Foxtons has swung to a loss and says the housing market in the capital is \n",
    "in a prolonged downturn.Foxtons said annual revenues fell 5% to £111.5m, with the weakness in property sales being offset \n",
    "slightly by a resilient lettings performance.Measures of consumer confidence weakened around the turn of the year and \n",
    "surveyors reported a further fall in new buyer enquiries over the same period.\n",
    "While the number of properties coming onto the market also slowed, this doesn't appear to have been enough to prevent a modest shift in the balance of demand and supply in favour of buyers in recent months.\n",
    "\n",
    "#### Business Problem\n",
    "To recommend the Buyers location of real estate in London with market value of the assest for wise investement in this adverse condition.\n"
   ]
  },
  {
   "cell_type": "markdown",
   "metadata": {},
   "source": [
    "# Data Description\n",
    "\n",
    "Data required for this problem is London properties details and the relative price paid data. Data was extracted from the HM Land Registry.Address data included in Price Paid Data: Postcode; PAON Primary Addressable Object Name.House number or name; SAON Secondary Addressable Object Name. If there is a sub-building, for example, the building is divided into flats, there will be a SAON; Street; Locality; Town/City; District; County.\n",
    "\n",
    "To explore and target recommended locations across different venues according to the presence of amenities and essential facilities, we will access data through FourSquare API interface and arrange them as a dataframe for visualization. By merging data on London properties and the relative price paid data from the HM Land Registry and data on amenities and essential facilities surrounding such properties from FourSquare API interface, we will be able to recommend profitable real estate investments.\n",
    "We will use Clustering technique once the neigborhood data is extracted using Foursqure API, this will help in understanding the locations with good amenities housing property in reasonable price.\n",
    "\n",
    "We will select only London City data and will try to get the average housing price street wise in London City. Finally we will plot the recommended location in London map."
   ]
  },
  {
   "cell_type": "code",
   "execution_count": null,
   "metadata": {},
   "outputs": [],
   "source": []
  }
 ],
 "metadata": {
  "kernelspec": {
   "display_name": "Python 3",
   "language": "python",
   "name": "python3"
  },
  "language_info": {
   "codemirror_mode": {
    "name": "ipython",
    "version": 3
   },
   "file_extension": ".py",
   "mimetype": "text/x-python",
   "name": "python",
   "nbconvert_exporter": "python",
   "pygments_lexer": "ipython3",
   "version": "3.6.4"
  }
 },
 "nbformat": 4,
 "nbformat_minor": 2
}
